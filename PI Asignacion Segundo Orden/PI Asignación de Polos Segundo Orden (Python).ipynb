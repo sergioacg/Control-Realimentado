{
 "cells": [
  {
   "cell_type": "markdown",
   "metadata": {},
   "source": [
    "# Control PI por Asignación de Polos para un Sistema de Segundo Orden\n",
    "\n",
    "En este codigo desarrollamos un control PI para un sistema representado en la forma tradicional de segundo orden. En este caso asignaremos en la ecuación característica deseada dos polos complejos conjugados y un polo real.\n",
    "\n",
    "by: Sergio Andres Castaño Giraldo\n",
    "\n",
    "https://controlautomaticoeducacion.com/"
   ]
  },
  {
   "cell_type": "markdown",
   "metadata": {},
   "source": [
    "## Bibliotecas"
   ]
  },
  {
   "cell_type": "code",
   "execution_count": 1,
   "metadata": {},
   "outputs": [],
   "source": [
    "from scipy import signal\n",
    "import matplotlib.pyplot as plt\n",
    "import numpy as np\n",
    "import math\n",
    "\n",
    "# install control \n",
    "# https://python-control.readthedocs.io/en/latest/intro.html\n",
    "try:\n",
    "    from control.matlab import *\n",
    "except:\n",
    "    !pip install slycot   \n",
    "    !pip install control\n",
    "    #conda install -c conda-forge control\n",
    "    # restart kernel if this doesn't import\n",
    "    from control.matlab import *"
   ]
  },
  {
   "cell_type": "markdown",
   "metadata": {},
   "source": [
    "## Función de transferencia del proceso\n",
    "Para este caso se desea controlar el nivel del segundo tanque () en un sistema de dos tanques en cascada.\n",
    "\n",
    "La función de transferencia viene dado por:\n",
    "\n",
    "$P = \\frac{k}{s^2+as+b}=\\frac{0.0006}{s^2+0.03271s+0.0002297}$"
   ]
  },
  {
   "cell_type": "code",
   "execution_count": 2,
   "metadata": {},
   "outputs": [
    {
     "name": "stdout",
     "output_type": "stream",
     "text": [
      "\n",
      "          0.0006\n",
      "---------------------------\n",
      "s^2 + 0.03271 s + 0.0002297\n",
      "\n"
     ]
    }
   ],
   "source": [
    "k = 0.0006;\n",
    "a = 0.03271;\n",
    "b = 0.0002297;\n",
    "#P = signal.TransferFunction(k,[1,a,b]); #scipy\n",
    "P = tf(k,[1,a,b]);\n",
    "print(P)"
   ]
  },
  {
   "cell_type": "markdown",
   "metadata": {},
   "source": [
    "El controlador PI viene representado por:\n",
    "\n",
    "$C = \\dfrac{K_cs+K_i}{s}$\n",
    "\n",
    "donde:\n",
    "\n",
    "$K_i=\\dfrac{K_c}{\\tau_i}$\n",
    "\n",
    "## Ecuación característica de lazo cerrado\n",
    "Cerrando el lazo de control con el controlador y la planta se obtiene la siguiente ecuación característica:\n",
    "\n",
    "$P=s^3+as^2+(b+kK_p)s+kK_i$"
   ]
  },
  {
   "cell_type": "markdown",
   "metadata": {},
   "source": [
    "## PI por Asignación de Polos\n",
    "Se procede a encontrar el control por asignación de Polos por medio de unas condiciones de diseño. En este caso se establecen dons polos complejos conjugados y un polo real"
   ]
  },
  {
   "cell_type": "code",
   "execution_count": 3,
   "metadata": {},
   "outputs": [],
   "source": [
    "# Especificaciones de Diseño\n",
    "Mp=25; #Maximo Pico\n",
    "ep=math.sqrt(((math.log(Mp/100))**2)/(math.pi**2+((math.log(Mp/100))**2)));\n",
    "Tss = 400;\n",
    "Wn=4/(ep*Tss);"
   ]
  },
  {
   "cell_type": "markdown",
   "metadata": {},
   "source": [
    "El polo real es el encargado de reducir el máximo sobreimpulso y tambien aumentar o disminuir el tiempo de establecimiento. La proporción del polo real con los polos complejos conjugados es dado por:\n",
    "\n",
    "$\\beta=\\dfrac{p_1}{\\zeta\\omega}$\n",
    "\n",
    "Si la proporción es 1 no existirá sobreimpulso, a medida que aumenta la respuesta presenta mayor sobreimpulso"
   ]
  },
  {
   "cell_type": "code",
   "execution_count": 4,
   "metadata": {},
   "outputs": [
    {
     "name": "stdout",
     "output_type": "stream",
     "text": [
      "1.2710000000000004\n"
     ]
    }
   ],
   "source": [
    "beta = a/(ep*Wn) - 2\n",
    "print(beta)"
   ]
  },
  {
   "cell_type": "markdown",
   "metadata": {},
   "source": [
    "Calculo de los polos deseados según la ecuación característica:\n",
    "\n",
    "Sabiendo que $p_1=\\beta\\zeta\\omega_n$\n",
    "\n",
    "$P_d = s^3+(\\beta+2)\\zeta\\omega_ns^2+(2\\beta\\zeta^2+1)\\omega_n^2s+\\beta\\zeta\\omega_n^3$"
   ]
  },
  {
   "cell_type": "code",
   "execution_count": 5,
   "metadata": {},
   "outputs": [],
   "source": [
    "s1 = complex(-ep*Wn,Wn*math.sqrt(1-ep**2))\n",
    "s2 = complex(-ep*Wn,-Wn*math.sqrt(1-ep**2))\n",
    "s3 = -beta*ep*Wn;"
   ]
  },
  {
   "cell_type": "code",
   "execution_count": 6,
   "metadata": {},
   "outputs": [
    {
     "name": "stdout",
     "output_type": "stream",
     "text": [
      "[(-0.01+0.022661800709135968j), (-0.01-0.022661800709135968j), -0.012710000000000004]\n"
     ]
    }
   ],
   "source": [
    "Sd1= [s1, s2, s3]\n",
    "print(Sd1)"
   ]
  },
  {
   "cell_type": "code",
   "execution_count": 7,
   "metadata": {},
   "outputs": [
    {
     "name": "stdout",
     "output_type": "stream",
     "text": [
      "[1.00000000e+00 3.27100000e-02 8.67757211e-04 7.79831216e-06]\n"
     ]
    }
   ],
   "source": [
    "Pds=np.poly(Sd1)\n",
    "print(Pds)"
   ]
  },
  {
   "cell_type": "markdown",
   "metadata": {},
   "source": [
    "## Calculo de los parámetros del controlador"
   ]
  },
  {
   "cell_type": "code",
   "execution_count": 8,
   "metadata": {},
   "outputs": [],
   "source": [
    "Kc=((2*beta*ep**2+1)*Wn**2-b)/k;      \n",
    "Ki=(beta*ep*Wn**3)/k;                \n",
    "ti=Kc/Ki;\n",
    "td=0;\n",
    "\n",
    "#Controlador PI\n",
    "nc = [Kc, Ki];\n",
    "dc = [1, 0];\n",
    "#C = signal.TransferFunction(nc, dc)\n",
    "C = tf(nc, dc);"
   ]
  },
  {
   "cell_type": "markdown",
   "metadata": {},
   "source": [
    "## lazo cerrado de control"
   ]
  },
  {
   "cell_type": "code",
   "execution_count": 9,
   "metadata": {},
   "outputs": [
    {
     "name": "stdout",
     "output_type": "stream",
     "text": [
      "\n",
      "          0.0006381 s + 7.798e-06\n",
      "-------------------------------------------\n",
      "s^3 + 0.03271 s^2 + 0.0008678 s + 7.798e-06\n",
      "\n"
     ]
    }
   ],
   "source": [
    "H = feedback(C*P,1);\n",
    "print(H)"
   ]
  },
  {
   "cell_type": "code",
   "execution_count": 10,
   "metadata": {},
   "outputs": [
    {
     "name": "stdout",
     "output_type": "stream",
     "text": [
      "{'RiseTime': 57.45745745745752, 'SettlingTime': 340.5405405405409, 'SettlingMin': 0.9039887466825883, 'SettlingMax': 1.2700284861394433, 'Overshoot': 26.874558033087613, 'Undershoot': 0.0, 'Peak': 1.2700284861394433, 'PeakTime': 137.3373373373375, 'SteadyStateValue': 1.0010111608099022}\n"
     ]
    }
   ],
   "source": [
    "Hi = stepinfo(H);\n",
    "print(Hi)"
   ]
  },
  {
   "cell_type": "code",
   "execution_count": 11,
   "metadata": {},
   "outputs": [],
   "source": [
    "y,t = step(H);"
   ]
  },
  {
   "cell_type": "code",
   "execution_count": 12,
   "metadata": {},
   "outputs": [
    {
     "data": {
      "image/png": "[encoded data removed]",
      "text/plain": [
       "<Figure size 432x288 with 1 Axes>"
      ]
     },
     "metadata": {
      "needs_background": "light"
     },
     "output_type": "display_data"
    }
   ],
   "source": [
    "plt.plot(t,y)\n",
    "plt.xlabel('Time [s]')\n",
    "plt.ylabel('Amplitude')\n",
    "plt.title('Step response')\n",
    "plt.grid()"
   ]
  },
  {
   "cell_type": "code",
   "execution_count": null,
   "metadata": {},
   "outputs": [],
   "source": []
  }
 ],
 "metadata": {
  "kernelspec": {
   "display_name": "Python 3",
   "language": "python",
   "name": "python3"
  },
  "language_info": {
   "codemirror_mode": {
    "name": "ipython",
    "version": 3
   },
   "file_extension": ".py",
   "mimetype": "text/x-python",
   "name": "python",
   "nbconvert_exporter": "python",
   "pygments_lexer": "ipython3",
   "version": "3.7.6"
  }
 },
 "nbformat": 4,
 "nbformat_minor": 4
}
